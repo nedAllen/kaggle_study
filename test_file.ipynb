{
 "cells": [
  {
   "cell_type": "code",
   "execution_count": 1,
   "id": "b8c1732d",
   "metadata": {
    "_cell_guid": "b1076dfc-b9ad-4769-8c92-a6c4dae69d19",
    "_uuid": "8f2839f25d086af736a60e9eeb907d3b93b6e0e5",
    "execution": {
     "iopub.execute_input": "2023-11-04T04:10:13.631400Z",
     "iopub.status.busy": "2023-11-04T04:10:13.630918Z",
     "iopub.status.idle": "2023-11-04T04:10:14.507194Z",
     "shell.execute_reply": "2023-11-04T04:10:14.505920Z"
    },
    "papermill": {
     "duration": 0.884465,
     "end_time": "2023-11-04T04:10:14.510553",
     "exception": false,
     "start_time": "2023-11-04T04:10:13.626088",
     "status": "completed"
    },
    "tags": []
   },
   "outputs": [],
   "source": [
    "# This Python 3 environment comes with many helpful analytics libraries installed\n",
    "# It is defined by the kaggle/python Docker image: https://github.com/kaggle/docker-python\n",
    "# For example, here's several helpful packages to load\n",
    "\n",
    "import numpy as np # linear algebra\n",
    "import pandas as pd # data processing, CSV file I/O (e.g. pd.read_csv)\n",
    "\n",
    "# Input data files are available in the read-only \"../input/\" directory\n",
    "# For example, running this (by clicking run or pressing Shift+Enter) will list all files under the input directory\n",
    "\n",
    "import os\n",
    "for dirname, _, filenames in os.walk('/kaggle/input'):\n",
    "    for filename in filenames:\n",
    "        print(os.path.join(dirname, filename))\n",
    "\n",
    "# You can write up to 20GB to the current directory (/kaggle/working/) that gets preserved as output when you create a version using \"Save & Run All\" \n",
    "# You can also write temporary files to /kaggle/temp/, but they won't be saved outside of the current session"
   ]
  },
  {
   "cell_type": "code",
   "execution_count": 2,
   "id": "7012a275",
   "metadata": {
    "execution": {
     "iopub.execute_input": "2023-11-04T04:10:14.517709Z",
     "iopub.status.busy": "2023-11-04T04:10:14.517208Z",
     "iopub.status.idle": "2023-11-04T04:10:14.523551Z",
     "shell.execute_reply": "2023-11-04T04:10:14.522068Z"
    },
    "papermill": {
     "duration": 0.016026,
     "end_time": "2023-11-04T04:10:14.529398",
     "exception": false,
     "start_time": "2023-11-04T04:10:14.513372",
     "status": "completed"
    },
    "tags": []
   },
   "outputs": [
    {
     "name": "stdout",
     "output_type": "stream",
     "text": [
      "hello\n"
     ]
    }
   ],
   "source": [
    "print(\"hello\")"
   ]
  },
  {
   "cell_type": "code",
   "execution_count": 3,
   "id": "92ce9c6b",
   "metadata": {
    "execution": {
     "iopub.execute_input": "2023-11-04T04:10:14.535643Z",
     "iopub.status.busy": "2023-11-04T04:10:14.535248Z",
     "iopub.status.idle": "2023-11-04T04:10:14.541421Z",
     "shell.execute_reply": "2023-11-04T04:10:14.540074Z"
    },
    "papermill": {
     "duration": 0.012364,
     "end_time": "2023-11-04T04:10:14.544126",
     "exception": false,
     "start_time": "2023-11-04T04:10:14.531762",
     "status": "completed"
    },
    "tags": []
   },
   "outputs": [
    {
     "name": "stdout",
     "output_type": "stream",
     "text": [
      "test\n"
     ]
    }
   ],
   "source": [
    "print(\"test\")"
   ]
  }
 ],
 "metadata": {
  "kernelspec": {
   "display_name": "Python 3",
   "language": "python",
   "name": "python3"
  },
  "language_info": {
   "codemirror_mode": {
    "name": "ipython",
    "version": 3
   },
   "file_extension": ".py",
   "mimetype": "text/x-python",
   "name": "python",
   "nbconvert_exporter": "python",
   "pygments_lexer": "ipython3",
   "version": "3.10.12"
  },
  "papermill": {
   "default_parameters": {},
   "duration": 6.471776,
   "end_time": "2023-11-04T04:10:15.068407",
   "environment_variables": {},
   "exception": null,
   "input_path": "__notebook__.ipynb",
   "output_path": "__notebook__.ipynb",
   "parameters": {},
   "start_time": "2023-11-04T04:10:08.596631",
   "version": "2.4.0"
  }
 },
 "nbformat": 4,
 "nbformat_minor": 5
}
